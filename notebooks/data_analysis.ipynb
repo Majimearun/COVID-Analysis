{
 "cells": [
  {
   "cell_type": "code",
   "execution_count": 1,
   "source": [
    "# imports\r\n",
    "import os\r\n",
    "import pickle\r\n",
    "import time\r\n",
    "import pandas as pd\r\n",
    "import plotly.express as px\r\n",
    "import plotly.graph_objects as go"
   ],
   "outputs": [],
   "metadata": {}
  },
  {
   "cell_type": "code",
   "execution_count": 2,
   "source": [
    "# changing directory\r\n",
    "# Run this cell only once!!\r\n",
    "path_parent = os.path.dirname(os.getcwd())\r\n",
    "os.chdir(path_parent)"
   ],
   "outputs": [],
   "metadata": {}
  },
  {
   "cell_type": "code",
   "execution_count": 3,
   "source": [
    "# get the data\r\n",
    "\r\n",
    "# general information\r\n",
    "continents = pd.read_csv('data/continents.csv')\r\n",
    "countries = pd.read_csv(\"data/countries.csv\")\r\n",
    "\r\n",
    "# timeseries\r\n",
    "global_ts = pd.read_csv(\"data/global_ts.csv\")\r\n",
    "country_confirmed = pd.read_csv(\"data/country_confirmed.csv\")\r\n",
    "country_deaths = pd.read_csv(\"data/country_deaths.csv\")\r\n",
    "country_recovered = pd.read_csv(\"data/country_recovered.csv\")\r\n",
    "vac_global = pd.read_csv(\"data/vac_global.csv\")\r\n",
    "vac_country = pd.read_csv(\"data/vac_country.csv\")\r\n",
    "\r\n",
    "# pickle file has only data for text and nothing for chart or analysis\r\n",
    "with open(\"data/global_update.pkl\", \"rb\") as file:\r\n",
    "    global_update = pickle.load(file)\r\n"
   ],
   "outputs": [],
   "metadata": {}
  },
  {
   "cell_type": "code",
   "execution_count": 4,
   "source": [
    "# updating index for all dataframes\r\n",
    "continents.index = continents['continent']\r\n",
    "continents.drop(columns=['continent'], inplace=True)\r\n",
    "country_confirmed.index = country_confirmed['country']\r\n",
    "country_confirmed.drop(columns=['country'], inplace=True)\r\n",
    "country_deaths.index = country_deaths['country']\r\n",
    "country_deaths.drop(columns=['country'], inplace=True)\r\n",
    "country_recovered.index = country_recovered['country']\r\n",
    "country_recovered.drop(columns=['country'], inplace=True)\r\n",
    "vac_country.index = vac_country['country']\r\n",
    "vac_country.drop(columns=['country'], inplace=True)\r\n",
    "global_ts.index = global_ts['category']\r\n",
    "global_ts.drop(columns=['category'], inplace=True)\r\n",
    "# vac_global is a single time series so no need to change its index"
   ],
   "outputs": [],
   "metadata": {}
  },
  {
   "cell_type": "code",
   "execution_count": 5,
   "source": [
    "def combined_country(country,confirmed_df, recovered_df, deaths_df, vac_df):\r\n",
    "    comb_df = pd.DataFrame()\r\n",
    "    comb_df[\"confirmed\"] = confirmed_df.loc[country]\r\n",
    "    comb_df[\"deaths\"] = deaths_df.loc[country]\r\n",
    "    comb_df[\"recovered\"] = recovered_df.loc[country]\r\n",
    "    comb_df[\"vaccined\"] = vac_df.loc[country]\r\n",
    "    return comb_df\r\n"
   ],
   "outputs": [],
   "metadata": {}
  },
  {
   "cell_type": "code",
   "execution_count": 6,
   "source": [
    "# Example\r\n",
    "combined_country(\"India\", country_confirmed, country_recovered, country_deaths, vac_country)"
   ],
   "outputs": [
    {
     "output_type": "execute_result",
     "data": {
      "text/html": [
       "<div>\n",
       "<style scoped>\n",
       "    .dataframe tbody tr th:only-of-type {\n",
       "        vertical-align: middle;\n",
       "    }\n",
       "\n",
       "    .dataframe tbody tr th {\n",
       "        vertical-align: top;\n",
       "    }\n",
       "\n",
       "    .dataframe thead th {\n",
       "        text-align: right;\n",
       "    }\n",
       "</style>\n",
       "<table border=\"1\" class=\"dataframe\">\n",
       "  <thead>\n",
       "    <tr style=\"text-align: right;\">\n",
       "      <th></th>\n",
       "      <th>confirmed</th>\n",
       "      <th>deaths</th>\n",
       "      <th>recovered</th>\n",
       "      <th>vaccined</th>\n",
       "    </tr>\n",
       "  </thead>\n",
       "  <tbody>\n",
       "    <tr>\n",
       "      <th>1/22/20</th>\n",
       "      <td>0</td>\n",
       "      <td>0</td>\n",
       "      <td>0</td>\n",
       "      <td>NaN</td>\n",
       "    </tr>\n",
       "    <tr>\n",
       "      <th>1/23/20</th>\n",
       "      <td>0</td>\n",
       "      <td>0</td>\n",
       "      <td>0</td>\n",
       "      <td>NaN</td>\n",
       "    </tr>\n",
       "    <tr>\n",
       "      <th>1/24/20</th>\n",
       "      <td>0</td>\n",
       "      <td>0</td>\n",
       "      <td>0</td>\n",
       "      <td>NaN</td>\n",
       "    </tr>\n",
       "    <tr>\n",
       "      <th>1/25/20</th>\n",
       "      <td>0</td>\n",
       "      <td>0</td>\n",
       "      <td>0</td>\n",
       "      <td>NaN</td>\n",
       "    </tr>\n",
       "    <tr>\n",
       "      <th>1/26/20</th>\n",
       "      <td>0</td>\n",
       "      <td>0</td>\n",
       "      <td>0</td>\n",
       "      <td>NaN</td>\n",
       "    </tr>\n",
       "    <tr>\n",
       "      <th>...</th>\n",
       "      <td>...</td>\n",
       "      <td>...</td>\n",
       "      <td>...</td>\n",
       "      <td>...</td>\n",
       "    </tr>\n",
       "    <tr>\n",
       "      <th>9/1/21</th>\n",
       "      <td>32857937</td>\n",
       "      <td>439529</td>\n",
       "      <td>0</td>\n",
       "      <td>661576916.0</td>\n",
       "    </tr>\n",
       "    <tr>\n",
       "      <th>9/2/21</th>\n",
       "      <td>32903289</td>\n",
       "      <td>439895</td>\n",
       "      <td>0</td>\n",
       "      <td>669775627.0</td>\n",
       "    </tr>\n",
       "    <tr>\n",
       "      <th>9/3/21</th>\n",
       "      <td>32945907</td>\n",
       "      <td>440225</td>\n",
       "      <td>0</td>\n",
       "      <td>675654935.0</td>\n",
       "    </tr>\n",
       "    <tr>\n",
       "      <th>9/4/21</th>\n",
       "      <td>32988673</td>\n",
       "      <td>440533</td>\n",
       "      <td>0</td>\n",
       "      <td>677744969.0</td>\n",
       "    </tr>\n",
       "    <tr>\n",
       "      <th>9/5/21</th>\n",
       "      <td>33027621</td>\n",
       "      <td>440752</td>\n",
       "      <td>0</td>\n",
       "      <td>677744969.0</td>\n",
       "    </tr>\n",
       "  </tbody>\n",
       "</table>\n",
       "<p>593 rows × 4 columns</p>\n",
       "</div>"
      ],
      "text/plain": [
       "         confirmed  deaths  recovered     vaccined\n",
       "1/22/20          0       0          0          NaN\n",
       "1/23/20          0       0          0          NaN\n",
       "1/24/20          0       0          0          NaN\n",
       "1/25/20          0       0          0          NaN\n",
       "1/26/20          0       0          0          NaN\n",
       "...            ...     ...        ...          ...\n",
       "9/1/21    32857937  439529          0  661576916.0\n",
       "9/2/21    32903289  439895          0  669775627.0\n",
       "9/3/21    32945907  440225          0  675654935.0\n",
       "9/4/21    32988673  440533          0  677744969.0\n",
       "9/5/21    33027621  440752          0  677744969.0\n",
       "\n",
       "[593 rows x 4 columns]"
      ]
     },
     "metadata": {},
     "execution_count": 6
    }
   ],
   "metadata": {}
  },
  {
   "cell_type": "code",
   "execution_count": 7,
   "source": [
    "def combined_global(cases_df, vac_df):\r\n",
    "    comb_df = pd.DataFrame()\r\n",
    "    comb_df[\"confirmed\"] = cases_df.loc[\"cases\"]\r\n",
    "    comb_df[\"deaths\"] = cases_df.loc[\"deaths\"]\r\n",
    "    comb_df[\"recovered\"] = cases_df.loc[\"recovered\"]\r\n",
    "    comb_df[\"vaccined\"] = vac_df.loc[0]\r\n",
    "    return comb_df"
   ],
   "outputs": [],
   "metadata": {}
  },
  {
   "cell_type": "code",
   "execution_count": 8,
   "source": [
    "# Example\r\n",
    "combined_global(global_ts, vac_global)"
   ],
   "outputs": [
    {
     "output_type": "execute_result",
     "data": {
      "text/html": [
       "<div>\n",
       "<style scoped>\n",
       "    .dataframe tbody tr th:only-of-type {\n",
       "        vertical-align: middle;\n",
       "    }\n",
       "\n",
       "    .dataframe tbody tr th {\n",
       "        vertical-align: top;\n",
       "    }\n",
       "\n",
       "    .dataframe thead th {\n",
       "        text-align: right;\n",
       "    }\n",
       "</style>\n",
       "<table border=\"1\" class=\"dataframe\">\n",
       "  <thead>\n",
       "    <tr style=\"text-align: right;\">\n",
       "      <th></th>\n",
       "      <th>confirmed</th>\n",
       "      <th>deaths</th>\n",
       "      <th>recovered</th>\n",
       "      <th>vaccined</th>\n",
       "    </tr>\n",
       "  </thead>\n",
       "  <tbody>\n",
       "    <tr>\n",
       "      <th>1/22/20</th>\n",
       "      <td>557</td>\n",
       "      <td>17</td>\n",
       "      <td>30</td>\n",
       "      <td>NaN</td>\n",
       "    </tr>\n",
       "    <tr>\n",
       "      <th>1/23/20</th>\n",
       "      <td>655</td>\n",
       "      <td>18</td>\n",
       "      <td>32</td>\n",
       "      <td>NaN</td>\n",
       "    </tr>\n",
       "    <tr>\n",
       "      <th>1/24/20</th>\n",
       "      <td>941</td>\n",
       "      <td>26</td>\n",
       "      <td>39</td>\n",
       "      <td>NaN</td>\n",
       "    </tr>\n",
       "    <tr>\n",
       "      <th>1/25/20</th>\n",
       "      <td>1433</td>\n",
       "      <td>42</td>\n",
       "      <td>42</td>\n",
       "      <td>NaN</td>\n",
       "    </tr>\n",
       "    <tr>\n",
       "      <th>1/26/20</th>\n",
       "      <td>2118</td>\n",
       "      <td>56</td>\n",
       "      <td>56</td>\n",
       "      <td>NaN</td>\n",
       "    </tr>\n",
       "    <tr>\n",
       "      <th>...</th>\n",
       "      <td>...</td>\n",
       "      <td>...</td>\n",
       "      <td>...</td>\n",
       "      <td>...</td>\n",
       "    </tr>\n",
       "    <tr>\n",
       "      <th>9/1/21</th>\n",
       "      <td>218431264</td>\n",
       "      <td>4531889</td>\n",
       "      <td>0</td>\n",
       "      <td>5.387017e+09</td>\n",
       "    </tr>\n",
       "    <tr>\n",
       "      <th>9/2/21</th>\n",
       "      <td>219062869</td>\n",
       "      <td>4541463</td>\n",
       "      <td>0</td>\n",
       "      <td>5.418303e+09</td>\n",
       "    </tr>\n",
       "    <tr>\n",
       "      <th>9/3/21</th>\n",
       "      <td>219821446</td>\n",
       "      <td>4553701</td>\n",
       "      <td>0</td>\n",
       "      <td>5.442297e+09</td>\n",
       "    </tr>\n",
       "    <tr>\n",
       "      <th>9/4/21</th>\n",
       "      <td>220282354</td>\n",
       "      <td>4561159</td>\n",
       "      <td>0</td>\n",
       "      <td>5.460115e+09</td>\n",
       "    </tr>\n",
       "    <tr>\n",
       "      <th>9/5/21</th>\n",
       "      <td>220689611</td>\n",
       "      <td>4567350</td>\n",
       "      <td>0</td>\n",
       "      <td>5.460115e+09</td>\n",
       "    </tr>\n",
       "  </tbody>\n",
       "</table>\n",
       "<p>593 rows × 4 columns</p>\n",
       "</div>"
      ],
      "text/plain": [
       "         confirmed   deaths  recovered      vaccined\n",
       "1/22/20        557       17         30           NaN\n",
       "1/23/20        655       18         32           NaN\n",
       "1/24/20        941       26         39           NaN\n",
       "1/25/20       1433       42         42           NaN\n",
       "1/26/20       2118       56         56           NaN\n",
       "...            ...      ...        ...           ...\n",
       "9/1/21   218431264  4531889          0  5.387017e+09\n",
       "9/2/21   219062869  4541463          0  5.418303e+09\n",
       "9/3/21   219821446  4553701          0  5.442297e+09\n",
       "9/4/21   220282354  4561159          0  5.460115e+09\n",
       "9/5/21   220689611  4567350          0  5.460115e+09\n",
       "\n",
       "[593 rows x 4 columns]"
      ]
     },
     "metadata": {},
     "execution_count": 8
    }
   ],
   "metadata": {}
  },
  {
   "cell_type": "code",
   "execution_count": 9,
   "source": [
    "# single function building off last two\r\n",
    "def combined_timeseries(location=\"global\",*dfs):\r\n",
    "    # remember to put the correct order of dfs in each case\r\n",
    "    if location == \"global\":\r\n",
    "        return combined_global(*dfs)\r\n",
    "    return combined_country(location,*dfs)"
   ],
   "outputs": [],
   "metadata": {}
  },
  {
   "cell_type": "code",
   "execution_count": 10,
   "source": [
    "# Example 1\r\n",
    "combined_timeseries(\"UK\", country_confirmed, country_recovered, country_deaths, vac_country)"
   ],
   "outputs": [
    {
     "output_type": "execute_result",
     "data": {
      "text/html": [
       "<div>\n",
       "<style scoped>\n",
       "    .dataframe tbody tr th:only-of-type {\n",
       "        vertical-align: middle;\n",
       "    }\n",
       "\n",
       "    .dataframe tbody tr th {\n",
       "        vertical-align: top;\n",
       "    }\n",
       "\n",
       "    .dataframe thead th {\n",
       "        text-align: right;\n",
       "    }\n",
       "</style>\n",
       "<table border=\"1\" class=\"dataframe\">\n",
       "  <thead>\n",
       "    <tr style=\"text-align: right;\">\n",
       "      <th></th>\n",
       "      <th>confirmed</th>\n",
       "      <th>deaths</th>\n",
       "      <th>recovered</th>\n",
       "      <th>vaccined</th>\n",
       "    </tr>\n",
       "  </thead>\n",
       "  <tbody>\n",
       "    <tr>\n",
       "      <th>1/22/20</th>\n",
       "      <td>0</td>\n",
       "      <td>0</td>\n",
       "      <td>0</td>\n",
       "      <td>NaN</td>\n",
       "    </tr>\n",
       "    <tr>\n",
       "      <th>1/23/20</th>\n",
       "      <td>0</td>\n",
       "      <td>0</td>\n",
       "      <td>0</td>\n",
       "      <td>NaN</td>\n",
       "    </tr>\n",
       "    <tr>\n",
       "      <th>1/24/20</th>\n",
       "      <td>0</td>\n",
       "      <td>0</td>\n",
       "      <td>0</td>\n",
       "      <td>NaN</td>\n",
       "    </tr>\n",
       "    <tr>\n",
       "      <th>1/25/20</th>\n",
       "      <td>0</td>\n",
       "      <td>0</td>\n",
       "      <td>0</td>\n",
       "      <td>NaN</td>\n",
       "    </tr>\n",
       "    <tr>\n",
       "      <th>1/26/20</th>\n",
       "      <td>0</td>\n",
       "      <td>0</td>\n",
       "      <td>0</td>\n",
       "      <td>NaN</td>\n",
       "    </tr>\n",
       "    <tr>\n",
       "      <th>...</th>\n",
       "      <td>...</td>\n",
       "      <td>...</td>\n",
       "      <td>...</td>\n",
       "      <td>...</td>\n",
       "    </tr>\n",
       "    <tr>\n",
       "      <th>9/1/21</th>\n",
       "      <td>6856933</td>\n",
       "      <td>133066</td>\n",
       "      <td>0</td>\n",
       "      <td>91155368.0</td>\n",
       "    </tr>\n",
       "    <tr>\n",
       "      <th>9/2/21</th>\n",
       "      <td>6894915</td>\n",
       "      <td>133244</td>\n",
       "      <td>0</td>\n",
       "      <td>91314745.0</td>\n",
       "    </tr>\n",
       "    <tr>\n",
       "      <th>9/3/21</th>\n",
       "      <td>6937270</td>\n",
       "      <td>133365</td>\n",
       "      <td>0</td>\n",
       "      <td>91456622.0</td>\n",
       "    </tr>\n",
       "    <tr>\n",
       "      <th>9/4/21</th>\n",
       "      <td>6973995</td>\n",
       "      <td>133485</td>\n",
       "      <td>0</td>\n",
       "      <td>91456622.0</td>\n",
       "    </tr>\n",
       "    <tr>\n",
       "      <th>9/5/21</th>\n",
       "      <td>7010540</td>\n",
       "      <td>133553</td>\n",
       "      <td>0</td>\n",
       "      <td>91456622.0</td>\n",
       "    </tr>\n",
       "  </tbody>\n",
       "</table>\n",
       "<p>593 rows × 4 columns</p>\n",
       "</div>"
      ],
      "text/plain": [
       "         confirmed  deaths  recovered    vaccined\n",
       "1/22/20          0       0          0         NaN\n",
       "1/23/20          0       0          0         NaN\n",
       "1/24/20          0       0          0         NaN\n",
       "1/25/20          0       0          0         NaN\n",
       "1/26/20          0       0          0         NaN\n",
       "...            ...     ...        ...         ...\n",
       "9/1/21     6856933  133066          0  91155368.0\n",
       "9/2/21     6894915  133244          0  91314745.0\n",
       "9/3/21     6937270  133365          0  91456622.0\n",
       "9/4/21     6973995  133485          0  91456622.0\n",
       "9/5/21     7010540  133553          0  91456622.0\n",
       "\n",
       "[593 rows x 4 columns]"
      ]
     },
     "metadata": {},
     "execution_count": 10
    }
   ],
   "metadata": {}
  },
  {
   "cell_type": "code",
   "execution_count": 30,
   "source": [
    "# Example 2\r\n",
    "df = combined_timeseries(\"global\", global_ts, vac_global)"
   ],
   "outputs": [],
   "metadata": {}
  },
  {
   "cell_type": "code",
   "execution_count": 28,
   "source": [
    "fig = go.Figure()\r\n",
    "fig.add_trace(go.Scatter(x=df.index, y=df[\"confirmed\"], name=\"confirmed\"))\r\n",
    "fig.add_trace(go.Scatter(x=df.index, y=df[\"deaths\"], name=\"deaths\"))\r\n",
    "fig.add_trace(go.Scatter(x=df.index, y=df[\"recovered\"], name=\"recovered\"))\r\n",
    "fig.add_trace(go.Scatter(x=df.index, y=df[\"vaccined\"], name=\"vaccined\"))\r\n",
    "fig.update_traces(hoverinfo='text+name', mode='lines')\r\n",
    "fig.update_layout(legend=dict(font_size=16))\r\n",
    "fig.show()\r\n"
   ],
   "outputs": [
    {
     "output_type": "display_data",
     "data": {
      "application/vnd.plotly.v1+json": {
       "config": {
        "plotlyServerURL": "https://plot.ly"
       },
       "data": [
        {
         "hoverinfo": "text+name",
         "mode": "lines",
         "name": "confirmed",
         "type": "scatter",
         "x": [
          "6/5/21",
          "6/6/21",
          "6/7/21",
          "6/8/21",
          "6/9/21",
          "6/10/21",
          "6/11/21",
          "6/12/21",
          "6/13/21",
          "6/14/21",
          "6/15/21",
          "6/16/21",
          "6/17/21",
          "6/18/21",
          "6/19/21",
          "6/20/21",
          "6/21/21",
          "6/22/21",
          "6/23/21",
          "6/24/21",
          "6/25/21",
          "6/26/21",
          "6/27/21",
          "6/28/21",
          "6/29/21",
          "6/30/21",
          "7/1/21",
          "7/2/21",
          "7/3/21",
          "7/4/21",
          "7/5/21",
          "7/6/21",
          "7/7/21",
          "7/8/21",
          "7/9/21",
          "7/10/21",
          "7/11/21",
          "7/12/21",
          "7/13/21",
          "7/14/21",
          "7/15/21",
          "7/16/21",
          "7/17/21",
          "7/18/21",
          "7/19/21",
          "7/20/21",
          "7/21/21",
          "7/22/21",
          "7/23/21",
          "7/24/21",
          "7/25/21",
          "7/26/21",
          "7/27/21",
          "7/28/21",
          "7/29/21",
          "7/30/21",
          "7/31/21",
          "8/1/21",
          "8/2/21",
          "8/3/21",
          "8/4/21",
          "8/5/21",
          "8/6/21",
          "8/7/21",
          "8/8/21",
          "8/9/21",
          "8/10/21",
          "8/11/21",
          "8/12/21",
          "8/13/21",
          "8/14/21",
          "8/15/21",
          "8/16/21",
          "8/17/21",
          "8/18/21",
          "8/19/21",
          "8/20/21",
          "8/21/21",
          "8/22/21",
          "8/23/21",
          "8/24/21",
          "8/25/21",
          "8/26/21",
          "8/27/21",
          "8/28/21",
          "8/29/21",
          "8/30/21",
          "8/31/21",
          "9/1/21",
          "9/2/21",
          "9/3/21",
          "9/4/21",
          "9/5/21"
         ],
         "y": [
          172989215,
          173312078,
          173633102,
          174000063,
          174419593,
          174869420,
          175290211,
          175662394,
          175965588,
          176273517,
          176645201,
          177043736,
          177435993,
          177842098,
          178189698,
          178490059,
          178787682,
          179159625,
          179596727,
          180000803,
          180422047,
          180785166,
          181095115,
          181426718,
          181810936,
          182204825,
          182645475,
          183085370,
          183460827,
          183787941,
          184158950,
          184613280,
          185077088,
          185558502,
          186066640,
          186493213,
          186857831,
          187297877,
          187816925,
          188358386,
          188928983,
          189527665,
          190001547,
          190424183,
          190923650,
          191455737,
          192015629,
          192582537,
          193271976,
          193746389,
          194179020,
          194722760,
          195334956,
          195978606,
          196630156,
          197366718,
          197875666,
          198338913,
          198925850,
          199566636,
          200237850,
          200925666,
          201746704,
          202291546,
          202728865,
          203388859,
          204023094,
          204730073,
          205415100,
          206281631,
          206808463,
          207268560,
          207938306,
          208597219,
          209304538,
          210001108,
          210864805,
          211400783,
          211844267,
          212541347,
          213206303,
          213915140,
          214627582,
          215452320,
          215991185,
          216433910,
          217119865,
          217708315,
          218431264,
          219062869,
          219821446,
          220282354,
          220689611
         ]
        },
        {
         "hoverinfo": "text+name",
         "mode": "lines",
         "name": "deaths",
         "type": "scatter",
         "x": [
          "6/5/21",
          "6/6/21",
          "6/7/21",
          "6/8/21",
          "6/9/21",
          "6/10/21",
          "6/11/21",
          "6/12/21",
          "6/13/21",
          "6/14/21",
          "6/15/21",
          "6/16/21",
          "6/17/21",
          "6/18/21",
          "6/19/21",
          "6/20/21",
          "6/21/21",
          "6/22/21",
          "6/23/21",
          "6/24/21",
          "6/25/21",
          "6/26/21",
          "6/27/21",
          "6/28/21",
          "6/29/21",
          "6/30/21",
          "7/1/21",
          "7/2/21",
          "7/3/21",
          "7/4/21",
          "7/5/21",
          "7/6/21",
          "7/7/21",
          "7/8/21",
          "7/9/21",
          "7/10/21",
          "7/11/21",
          "7/12/21",
          "7/13/21",
          "7/14/21",
          "7/15/21",
          "7/16/21",
          "7/17/21",
          "7/18/21",
          "7/19/21",
          "7/20/21",
          "7/21/21",
          "7/22/21",
          "7/23/21",
          "7/24/21",
          "7/25/21",
          "7/26/21",
          "7/27/21",
          "7/28/21",
          "7/29/21",
          "7/30/21",
          "7/31/21",
          "8/1/21",
          "8/2/21",
          "8/3/21",
          "8/4/21",
          "8/5/21",
          "8/6/21",
          "8/7/21",
          "8/8/21",
          "8/9/21",
          "8/10/21",
          "8/11/21",
          "8/12/21",
          "8/13/21",
          "8/14/21",
          "8/15/21",
          "8/16/21",
          "8/17/21",
          "8/18/21",
          "8/19/21",
          "8/20/21",
          "8/21/21",
          "8/22/21",
          "8/23/21",
          "8/24/21",
          "8/25/21",
          "8/26/21",
          "8/27/21",
          "8/28/21",
          "8/29/21",
          "8/30/21",
          "8/31/21",
          "9/1/21",
          "9/2/21",
          "9/3/21",
          "9/4/21",
          "9/5/21"
         ],
         "y": [
          3725260,
          3732493,
          3740546,
          3750926,
          3761395,
          3777405,
          3789326,
          3799110,
          3808387,
          3816249,
          3826823,
          3837149,
          3846417,
          3855632,
          3863710,
          3870363,
          3877413,
          3886388,
          3895903,
          3904525,
          3913726,
          3921199,
          3927245,
          3933871,
          3941980,
          3951158,
          3959849,
          3968082,
          3974927,
          3981506,
          3988957,
          3997530,
          4006086,
          4014940,
          4023383,
          4029986,
          4037451,
          4045678,
          4053954,
          4062655,
          4071151,
          4079828,
          4086893,
          4093908,
          4101150,
          4121906,
          4130571,
          4139397,
          4147145,
          4156360,
          4163604,
          4171465,
          4181336,
          4191576,
          4202406,
          4211932,
          4220795,
          4227873,
          4236105,
          4246449,
          4257031,
          4268016,
          4278590,
          4287171,
          4294615,
          4303276,
          4314763,
          4324740,
          4335026,
          4346338,
          4355000,
          4362226,
          4371690,
          4382396,
          4393205,
          4403830,
          4415456,
          4424328,
          4431951,
          4441529,
          4452592,
          4463912,
          4474638,
          4486312,
          4494714,
          4501435,
          4510359,
          4519444,
          4531889,
          4541463,
          4553701,
          4561159,
          4567350
         ]
        },
        {
         "hoverinfo": "text+name",
         "mode": "lines",
         "name": "recovered",
         "type": "scatter",
         "x": [
          "6/5/21",
          "6/6/21",
          "6/7/21",
          "6/8/21",
          "6/9/21",
          "6/10/21",
          "6/11/21",
          "6/12/21",
          "6/13/21",
          "6/14/21",
          "6/15/21",
          "6/16/21",
          "6/17/21",
          "6/18/21",
          "6/19/21",
          "6/20/21",
          "6/21/21",
          "6/22/21",
          "6/23/21",
          "6/24/21",
          "6/25/21",
          "6/26/21",
          "6/27/21",
          "6/28/21",
          "6/29/21",
          "6/30/21",
          "7/1/21",
          "7/2/21",
          "7/3/21",
          "7/4/21",
          "7/5/21",
          "7/6/21",
          "7/7/21",
          "7/8/21",
          "7/9/21",
          "7/10/21",
          "7/11/21",
          "7/12/21",
          "7/13/21",
          "7/14/21",
          "7/15/21",
          "7/16/21",
          "7/17/21",
          "7/18/21",
          "7/19/21",
          "7/20/21",
          "7/21/21",
          "7/22/21",
          "7/23/21",
          "7/24/21",
          "7/25/21",
          "7/26/21",
          "7/27/21",
          "7/28/21",
          "7/29/21",
          "7/30/21",
          "7/31/21",
          "8/1/21",
          "8/2/21",
          "8/3/21",
          "8/4/21",
          "8/5/21",
          "8/6/21",
          "8/7/21",
          "8/8/21",
          "8/9/21",
          "8/10/21",
          "8/11/21",
          "8/12/21",
          "8/13/21",
          "8/14/21",
          "8/15/21",
          "8/16/21",
          "8/17/21",
          "8/18/21",
          "8/19/21",
          "8/20/21",
          "8/21/21",
          "8/22/21",
          "8/23/21",
          "8/24/21",
          "8/25/21",
          "8/26/21",
          "8/27/21",
          "8/28/21",
          "8/29/21",
          "8/30/21",
          "8/31/21",
          "9/1/21",
          "9/2/21",
          "9/3/21",
          "9/4/21",
          "9/5/21"
         ],
         "y": [
          110704846,
          111146372,
          111568369,
          111983105,
          112435800,
          112849489,
          113225021,
          113563995,
          113993656,
          114340430,
          114800575,
          115149802,
          115530280,
          115849843,
          116181693,
          116446787,
          116804005,
          117107409,
          117507152,
          117796863,
          118125510,
          118420069,
          118678808,
          119006264,
          119299680,
          119580621,
          120008477,
          120299519,
          120569294,
          120868182,
          121235175,
          121563018,
          121831181,
          122123832,
          122462950,
          122907154,
          123197640,
          123499876,
          123783323,
          124113064,
          124394120,
          124784825,
          125065614,
          125382097,
          125688818,
          126008998,
          126315581,
          126671709,
          126918099,
          127435325,
          127762742,
          128063203,
          128409042,
          128745705,
          129094093,
          129401284,
          129705213,
          129994391,
          130277535,
          130582003,
          130899063,
          0,
          0,
          0,
          0,
          0,
          0,
          0,
          0,
          0,
          0,
          0,
          0,
          0,
          0,
          0,
          0,
          0,
          0,
          0,
          0,
          0,
          0,
          0,
          0,
          0,
          0,
          0,
          0,
          0,
          0,
          0,
          0
         ]
        },
        {
         "hoverinfo": "text+name",
         "mode": "lines",
         "name": "vaccined",
         "type": "scatter",
         "x": [
          "6/5/21",
          "6/6/21",
          "6/7/21",
          "6/8/21",
          "6/9/21",
          "6/10/21",
          "6/11/21",
          "6/12/21",
          "6/13/21",
          "6/14/21",
          "6/15/21",
          "6/16/21",
          "6/17/21",
          "6/18/21",
          "6/19/21",
          "6/20/21",
          "6/21/21",
          "6/22/21",
          "6/23/21",
          "6/24/21",
          "6/25/21",
          "6/26/21",
          "6/27/21",
          "6/28/21",
          "6/29/21",
          "6/30/21",
          "7/1/21",
          "7/2/21",
          "7/3/21",
          "7/4/21",
          "7/5/21",
          "7/6/21",
          "7/7/21",
          "7/8/21",
          "7/9/21",
          "7/10/21",
          "7/11/21",
          "7/12/21",
          "7/13/21",
          "7/14/21",
          "7/15/21",
          "7/16/21",
          "7/17/21",
          "7/18/21",
          "7/19/21",
          "7/20/21",
          "7/21/21",
          "7/22/21",
          "7/23/21",
          "7/24/21",
          "7/25/21",
          "7/26/21",
          "7/27/21",
          "7/28/21",
          "7/29/21",
          "7/30/21",
          "7/31/21",
          "8/1/21",
          "8/2/21",
          "8/3/21",
          "8/4/21",
          "8/5/21",
          "8/6/21",
          "8/7/21",
          "8/8/21",
          "8/9/21",
          "8/10/21",
          "8/11/21",
          "8/12/21",
          "8/13/21",
          "8/14/21",
          "8/15/21",
          "8/16/21",
          "8/17/21",
          "8/18/21",
          "8/19/21",
          "8/20/21",
          "8/21/21",
          "8/22/21",
          "8/23/21",
          "8/24/21",
          "8/25/21",
          "8/26/21",
          "8/27/21",
          "8/28/21",
          "8/29/21",
          "8/30/21",
          "8/31/21",
          "9/1/21",
          "9/2/21",
          "9/3/21",
          "9/4/21",
          "9/5/21"
         ],
         "y": [
          2133565360,
          2161411466,
          2192412985,
          2226152258,
          2265554944,
          2304389175,
          2340561274,
          2370199447,
          2400777759,
          2429421331,
          2469090554,
          2510550974,
          2557351344,
          2600469827,
          2637767845,
          2673192699,
          2716607249,
          2760655591,
          2804067662,
          2852337404,
          2896087879,
          2936188187,
          2977206306,
          3015184215,
          3057365264,
          3094463535,
          3141982944,
          3175320477,
          3208144476,
          3237370371,
          3269967690,
          3301747313,
          3335385797,
          3374405474,
          3401180269,
          3428248288,
          3451970152,
          3482033715,
          3516026800,
          3553271925,
          3589248566,
          3621524284,
          3649927191,
          3670922081,
          3704315445,
          3737266933,
          3769575580,
          3809368278,
          3846476089,
          3875723141,
          3903425231,
          3945677611,
          3986853907,
          4028388087,
          4074989088,
          4116214271,
          4149142257,
          4188514450,
          4225948960,
          4282120942,
          4326848067,
          4366055348,
          4404162180,
          4436425627,
          4468536661,
          4509962682,
          4549833505,
          4588440657,
          4620933882,
          4660749159,
          4694739046,
          4721565238,
          4763809891,
          4804657608,
          4841768919,
          4877043081,
          4915275599,
          4944595240,
          4976035592,
          5007583740,
          5051869148,
          5095508512,
          5140425950,
          5190995448,
          5225324117,
          5266308042,
          5301729155,
          5339928951,
          5387016988,
          5418303184,
          5442297417,
          5460114540,
          5460114540
         ]
        }
       ],
       "layout": {
        "legend": {
         "font": {
          "size": 16
         }
        },
        "template": {
         "data": {
          "bar": [
           {
            "error_x": {
             "color": "#2a3f5f"
            },
            "error_y": {
             "color": "#2a3f5f"
            },
            "marker": {
             "line": {
              "color": "#E5ECF6",
              "width": 0.5
             },
             "pattern": {
              "fillmode": "overlay",
              "size": 10,
              "solidity": 0.2
             }
            },
            "type": "bar"
           }
          ],
          "barpolar": [
           {
            "marker": {
             "line": {
              "color": "#E5ECF6",
              "width": 0.5
             },
             "pattern": {
              "fillmode": "overlay",
              "size": 10,
              "solidity": 0.2
             }
            },
            "type": "barpolar"
           }
          ],
          "carpet": [
           {
            "aaxis": {
             "endlinecolor": "#2a3f5f",
             "gridcolor": "white",
             "linecolor": "white",
             "minorgridcolor": "white",
             "startlinecolor": "#2a3f5f"
            },
            "baxis": {
             "endlinecolor": "#2a3f5f",
             "gridcolor": "white",
             "linecolor": "white",
             "minorgridcolor": "white",
             "startlinecolor": "#2a3f5f"
            },
            "type": "carpet"
           }
          ],
          "choropleth": [
           {
            "colorbar": {
             "outlinewidth": 0,
             "ticks": ""
            },
            "type": "choropleth"
           }
          ],
          "contour": [
           {
            "colorbar": {
             "outlinewidth": 0,
             "ticks": ""
            },
            "colorscale": [
             [
              0,
              "#0d0887"
             ],
             [
              0.1111111111111111,
              "#46039f"
             ],
             [
              0.2222222222222222,
              "#7201a8"
             ],
             [
              0.3333333333333333,
              "#9c179e"
             ],
             [
              0.4444444444444444,
              "#bd3786"
             ],
             [
              0.5555555555555556,
              "#d8576b"
             ],
             [
              0.6666666666666666,
              "#ed7953"
             ],
             [
              0.7777777777777778,
              "#fb9f3a"
             ],
             [
              0.8888888888888888,
              "#fdca26"
             ],
             [
              1,
              "#f0f921"
             ]
            ],
            "type": "contour"
           }
          ],
          "contourcarpet": [
           {
            "colorbar": {
             "outlinewidth": 0,
             "ticks": ""
            },
            "type": "contourcarpet"
           }
          ],
          "heatmap": [
           {
            "colorbar": {
             "outlinewidth": 0,
             "ticks": ""
            },
            "colorscale": [
             [
              0,
              "#0d0887"
             ],
             [
              0.1111111111111111,
              "#46039f"
             ],
             [
              0.2222222222222222,
              "#7201a8"
             ],
             [
              0.3333333333333333,
              "#9c179e"
             ],
             [
              0.4444444444444444,
              "#bd3786"
             ],
             [
              0.5555555555555556,
              "#d8576b"
             ],
             [
              0.6666666666666666,
              "#ed7953"
             ],
             [
              0.7777777777777778,
              "#fb9f3a"
             ],
             [
              0.8888888888888888,
              "#fdca26"
             ],
             [
              1,
              "#f0f921"
             ]
            ],
            "type": "heatmap"
           }
          ],
          "heatmapgl": [
           {
            "colorbar": {
             "outlinewidth": 0,
             "ticks": ""
            },
            "colorscale": [
             [
              0,
              "#0d0887"
             ],
             [
              0.1111111111111111,
              "#46039f"
             ],
             [
              0.2222222222222222,
              "#7201a8"
             ],
             [
              0.3333333333333333,
              "#9c179e"
             ],
             [
              0.4444444444444444,
              "#bd3786"
             ],
             [
              0.5555555555555556,
              "#d8576b"
             ],
             [
              0.6666666666666666,
              "#ed7953"
             ],
             [
              0.7777777777777778,
              "#fb9f3a"
             ],
             [
              0.8888888888888888,
              "#fdca26"
             ],
             [
              1,
              "#f0f921"
             ]
            ],
            "type": "heatmapgl"
           }
          ],
          "histogram": [
           {
            "marker": {
             "pattern": {
              "fillmode": "overlay",
              "size": 10,
              "solidity": 0.2
             }
            },
            "type": "histogram"
           }
          ],
          "histogram2d": [
           {
            "colorbar": {
             "outlinewidth": 0,
             "ticks": ""
            },
            "colorscale": [
             [
              0,
              "#0d0887"
             ],
             [
              0.1111111111111111,
              "#46039f"
             ],
             [
              0.2222222222222222,
              "#7201a8"
             ],
             [
              0.3333333333333333,
              "#9c179e"
             ],
             [
              0.4444444444444444,
              "#bd3786"
             ],
             [
              0.5555555555555556,
              "#d8576b"
             ],
             [
              0.6666666666666666,
              "#ed7953"
             ],
             [
              0.7777777777777778,
              "#fb9f3a"
             ],
             [
              0.8888888888888888,
              "#fdca26"
             ],
             [
              1,
              "#f0f921"
             ]
            ],
            "type": "histogram2d"
           }
          ],
          "histogram2dcontour": [
           {
            "colorbar": {
             "outlinewidth": 0,
             "ticks": ""
            },
            "colorscale": [
             [
              0,
              "#0d0887"
             ],
             [
              0.1111111111111111,
              "#46039f"
             ],
             [
              0.2222222222222222,
              "#7201a8"
             ],
             [
              0.3333333333333333,
              "#9c179e"
             ],
             [
              0.4444444444444444,
              "#bd3786"
             ],
             [
              0.5555555555555556,
              "#d8576b"
             ],
             [
              0.6666666666666666,
              "#ed7953"
             ],
             [
              0.7777777777777778,
              "#fb9f3a"
             ],
             [
              0.8888888888888888,
              "#fdca26"
             ],
             [
              1,
              "#f0f921"
             ]
            ],
            "type": "histogram2dcontour"
           }
          ],
          "mesh3d": [
           {
            "colorbar": {
             "outlinewidth": 0,
             "ticks": ""
            },
            "type": "mesh3d"
           }
          ],
          "parcoords": [
           {
            "line": {
             "colorbar": {
              "outlinewidth": 0,
              "ticks": ""
             }
            },
            "type": "parcoords"
           }
          ],
          "pie": [
           {
            "automargin": true,
            "type": "pie"
           }
          ],
          "scatter": [
           {
            "marker": {
             "colorbar": {
              "outlinewidth": 0,
              "ticks": ""
             }
            },
            "type": "scatter"
           }
          ],
          "scatter3d": [
           {
            "line": {
             "colorbar": {
              "outlinewidth": 0,
              "ticks": ""
             }
            },
            "marker": {
             "colorbar": {
              "outlinewidth": 0,
              "ticks": ""
             }
            },
            "type": "scatter3d"
           }
          ],
          "scattercarpet": [
           {
            "marker": {
             "colorbar": {
              "outlinewidth": 0,
              "ticks": ""
             }
            },
            "type": "scattercarpet"
           }
          ],
          "scattergeo": [
           {
            "marker": {
             "colorbar": {
              "outlinewidth": 0,
              "ticks": ""
             }
            },
            "type": "scattergeo"
           }
          ],
          "scattergl": [
           {
            "marker": {
             "colorbar": {
              "outlinewidth": 0,
              "ticks": ""
             }
            },
            "type": "scattergl"
           }
          ],
          "scattermapbox": [
           {
            "marker": {
             "colorbar": {
              "outlinewidth": 0,
              "ticks": ""
             }
            },
            "type": "scattermapbox"
           }
          ],
          "scatterpolar": [
           {
            "marker": {
             "colorbar": {
              "outlinewidth": 0,
              "ticks": ""
             }
            },
            "type": "scatterpolar"
           }
          ],
          "scatterpolargl": [
           {
            "marker": {
             "colorbar": {
              "outlinewidth": 0,
              "ticks": ""
             }
            },
            "type": "scatterpolargl"
           }
          ],
          "scatterternary": [
           {
            "marker": {
             "colorbar": {
              "outlinewidth": 0,
              "ticks": ""
             }
            },
            "type": "scatterternary"
           }
          ],
          "surface": [
           {
            "colorbar": {
             "outlinewidth": 0,
             "ticks": ""
            },
            "colorscale": [
             [
              0,
              "#0d0887"
             ],
             [
              0.1111111111111111,
              "#46039f"
             ],
             [
              0.2222222222222222,
              "#7201a8"
             ],
             [
              0.3333333333333333,
              "#9c179e"
             ],
             [
              0.4444444444444444,
              "#bd3786"
             ],
             [
              0.5555555555555556,
              "#d8576b"
             ],
             [
              0.6666666666666666,
              "#ed7953"
             ],
             [
              0.7777777777777778,
              "#fb9f3a"
             ],
             [
              0.8888888888888888,
              "#fdca26"
             ],
             [
              1,
              "#f0f921"
             ]
            ],
            "type": "surface"
           }
          ],
          "table": [
           {
            "cells": {
             "fill": {
              "color": "#EBF0F8"
             },
             "line": {
              "color": "white"
             }
            },
            "header": {
             "fill": {
              "color": "#C8D4E3"
             },
             "line": {
              "color": "white"
             }
            },
            "type": "table"
           }
          ]
         },
         "layout": {
          "annotationdefaults": {
           "arrowcolor": "#2a3f5f",
           "arrowhead": 0,
           "arrowwidth": 1
          },
          "autotypenumbers": "strict",
          "coloraxis": {
           "colorbar": {
            "outlinewidth": 0,
            "ticks": ""
           }
          },
          "colorscale": {
           "diverging": [
            [
             0,
             "#8e0152"
            ],
            [
             0.1,
             "#c51b7d"
            ],
            [
             0.2,
             "#de77ae"
            ],
            [
             0.3,
             "#f1b6da"
            ],
            [
             0.4,
             "#fde0ef"
            ],
            [
             0.5,
             "#f7f7f7"
            ],
            [
             0.6,
             "#e6f5d0"
            ],
            [
             0.7,
             "#b8e186"
            ],
            [
             0.8,
             "#7fbc41"
            ],
            [
             0.9,
             "#4d9221"
            ],
            [
             1,
             "#276419"
            ]
           ],
           "sequential": [
            [
             0,
             "#0d0887"
            ],
            [
             0.1111111111111111,
             "#46039f"
            ],
            [
             0.2222222222222222,
             "#7201a8"
            ],
            [
             0.3333333333333333,
             "#9c179e"
            ],
            [
             0.4444444444444444,
             "#bd3786"
            ],
            [
             0.5555555555555556,
             "#d8576b"
            ],
            [
             0.6666666666666666,
             "#ed7953"
            ],
            [
             0.7777777777777778,
             "#fb9f3a"
            ],
            [
             0.8888888888888888,
             "#fdca26"
            ],
            [
             1,
             "#f0f921"
            ]
           ],
           "sequentialminus": [
            [
             0,
             "#0d0887"
            ],
            [
             0.1111111111111111,
             "#46039f"
            ],
            [
             0.2222222222222222,
             "#7201a8"
            ],
            [
             0.3333333333333333,
             "#9c179e"
            ],
            [
             0.4444444444444444,
             "#bd3786"
            ],
            [
             0.5555555555555556,
             "#d8576b"
            ],
            [
             0.6666666666666666,
             "#ed7953"
            ],
            [
             0.7777777777777778,
             "#fb9f3a"
            ],
            [
             0.8888888888888888,
             "#fdca26"
            ],
            [
             1,
             "#f0f921"
            ]
           ]
          },
          "colorway": [
           "#636efa",
           "#EF553B",
           "#00cc96",
           "#ab63fa",
           "#FFA15A",
           "#19d3f3",
           "#FF6692",
           "#B6E880",
           "#FF97FF",
           "#FECB52"
          ],
          "font": {
           "color": "#2a3f5f"
          },
          "geo": {
           "bgcolor": "white",
           "lakecolor": "white",
           "landcolor": "#E5ECF6",
           "showlakes": true,
           "showland": true,
           "subunitcolor": "white"
          },
          "hoverlabel": {
           "align": "left"
          },
          "hovermode": "closest",
          "mapbox": {
           "style": "light"
          },
          "paper_bgcolor": "white",
          "plot_bgcolor": "#E5ECF6",
          "polar": {
           "angularaxis": {
            "gridcolor": "white",
            "linecolor": "white",
            "ticks": ""
           },
           "bgcolor": "#E5ECF6",
           "radialaxis": {
            "gridcolor": "white",
            "linecolor": "white",
            "ticks": ""
           }
          },
          "scene": {
           "xaxis": {
            "backgroundcolor": "#E5ECF6",
            "gridcolor": "white",
            "gridwidth": 2,
            "linecolor": "white",
            "showbackground": true,
            "ticks": "",
            "zerolinecolor": "white"
           },
           "yaxis": {
            "backgroundcolor": "#E5ECF6",
            "gridcolor": "white",
            "gridwidth": 2,
            "linecolor": "white",
            "showbackground": true,
            "ticks": "",
            "zerolinecolor": "white"
           },
           "zaxis": {
            "backgroundcolor": "#E5ECF6",
            "gridcolor": "white",
            "gridwidth": 2,
            "linecolor": "white",
            "showbackground": true,
            "ticks": "",
            "zerolinecolor": "white"
           }
          },
          "shapedefaults": {
           "line": {
            "color": "#2a3f5f"
           }
          },
          "ternary": {
           "aaxis": {
            "gridcolor": "white",
            "linecolor": "white",
            "ticks": ""
           },
           "baxis": {
            "gridcolor": "white",
            "linecolor": "white",
            "ticks": ""
           },
           "bgcolor": "#E5ECF6",
           "caxis": {
            "gridcolor": "white",
            "linecolor": "white",
            "ticks": ""
           }
          },
          "title": {
           "x": 0.05
          },
          "xaxis": {
           "automargin": true,
           "gridcolor": "white",
           "linecolor": "white",
           "ticks": "",
           "title": {
            "standoff": 15
           },
           "zerolinecolor": "white",
           "zerolinewidth": 2
          },
          "yaxis": {
           "automargin": true,
           "gridcolor": "white",
           "linecolor": "white",
           "ticks": "",
           "title": {
            "standoff": 15
           },
           "zerolinecolor": "white",
           "zerolinewidth": 2
          }
         }
        }
       }
      }
     },
     "metadata": {}
    }
   ],
   "metadata": {}
  },
  {
   "cell_type": "code",
   "execution_count": 40,
   "source": [
    "def get_plot(time_series, name):\r\n",
    "    color = (\r\n",
    "        \"#f54842\" if \"deaths\" in name else \"#45a2ff\" if \"cases\" in name else \"#42f587\"\r\n",
    "    )\r\n",
    "    fig = px.bar(\r\n",
    "        time_series,\r\n",
    "        x=time_series.index,\r\n",
    "        y=\"confirmed\",\r\n",
    "        color_discrete_sequence=[color] * len(time_series),\r\n",
    "        template='plotly_dark',\r\n",
    "    )\r\n",
    "    return fig"
   ],
   "outputs": [],
   "metadata": {}
  },
  {
   "cell_type": "code",
   "execution_count": 41,
   "source": [
    "get_plot(df[\"confirmed\"][-30:],\"cases\")"
   ],
   "outputs": [
    {
     "output_type": "display_data",
     "data": {
      "application/vnd.plotly.v1+json": {
       "config": {
        "plotlyServerURL": "https://plot.ly"
       },
       "data": [
        {
         "alignmentgroup": "True",
         "hovertemplate": "index=%{x}<br>confirmed=%{y}<extra></extra>",
         "legendgroup": "",
         "marker": {
          "color": "#45a2ff",
          "pattern": {
           "shape": ""
          }
         },
         "name": "",
         "offsetgroup": "",
         "orientation": "v",
         "showlegend": false,
         "textposition": "auto",
         "type": "bar",
         "x": [
          "8/7/21",
          "8/8/21",
          "8/9/21",
          "8/10/21",
          "8/11/21",
          "8/12/21",
          "8/13/21",
          "8/14/21",
          "8/15/21",
          "8/16/21",
          "8/17/21",
          "8/18/21",
          "8/19/21",
          "8/20/21",
          "8/21/21",
          "8/22/21",
          "8/23/21",
          "8/24/21",
          "8/25/21",
          "8/26/21",
          "8/27/21",
          "8/28/21",
          "8/29/21",
          "8/30/21",
          "8/31/21",
          "9/1/21",
          "9/2/21",
          "9/3/21",
          "9/4/21",
          "9/5/21"
         ],
         "xaxis": "x",
         "y": [
          202291546,
          202728865,
          203388859,
          204023094,
          204730073,
          205415100,
          206281631,
          206808463,
          207268560,
          207938306,
          208597219,
          209304538,
          210001108,
          210864805,
          211400783,
          211844267,
          212541347,
          213206303,
          213915140,
          214627582,
          215452320,
          215991185,
          216433910,
          217119865,
          217708315,
          218431264,
          219062869,
          219821446,
          220282354,
          220689611
         ],
         "yaxis": "y"
        }
       ],
       "layout": {
        "barmode": "relative",
        "legend": {
         "tracegroupgap": 0
        },
        "margin": {
         "t": 60
        },
        "template": {
         "data": {
          "bar": [
           {
            "error_x": {
             "color": "#f2f5fa"
            },
            "error_y": {
             "color": "#f2f5fa"
            },
            "marker": {
             "line": {
              "color": "rgb(17,17,17)",
              "width": 0.5
             },
             "pattern": {
              "fillmode": "overlay",
              "size": 10,
              "solidity": 0.2
             }
            },
            "type": "bar"
           }
          ],
          "barpolar": [
           {
            "marker": {
             "line": {
              "color": "rgb(17,17,17)",
              "width": 0.5
             },
             "pattern": {
              "fillmode": "overlay",
              "size": 10,
              "solidity": 0.2
             }
            },
            "type": "barpolar"
           }
          ],
          "carpet": [
           {
            "aaxis": {
             "endlinecolor": "#A2B1C6",
             "gridcolor": "#506784",
             "linecolor": "#506784",
             "minorgridcolor": "#506784",
             "startlinecolor": "#A2B1C6"
            },
            "baxis": {
             "endlinecolor": "#A2B1C6",
             "gridcolor": "#506784",
             "linecolor": "#506784",
             "minorgridcolor": "#506784",
             "startlinecolor": "#A2B1C6"
            },
            "type": "carpet"
           }
          ],
          "choropleth": [
           {
            "colorbar": {
             "outlinewidth": 0,
             "ticks": ""
            },
            "type": "choropleth"
           }
          ],
          "contour": [
           {
            "colorbar": {
             "outlinewidth": 0,
             "ticks": ""
            },
            "colorscale": [
             [
              0,
              "#0d0887"
             ],
             [
              0.1111111111111111,
              "#46039f"
             ],
             [
              0.2222222222222222,
              "#7201a8"
             ],
             [
              0.3333333333333333,
              "#9c179e"
             ],
             [
              0.4444444444444444,
              "#bd3786"
             ],
             [
              0.5555555555555556,
              "#d8576b"
             ],
             [
              0.6666666666666666,
              "#ed7953"
             ],
             [
              0.7777777777777778,
              "#fb9f3a"
             ],
             [
              0.8888888888888888,
              "#fdca26"
             ],
             [
              1,
              "#f0f921"
             ]
            ],
            "type": "contour"
           }
          ],
          "contourcarpet": [
           {
            "colorbar": {
             "outlinewidth": 0,
             "ticks": ""
            },
            "type": "contourcarpet"
           }
          ],
          "heatmap": [
           {
            "colorbar": {
             "outlinewidth": 0,
             "ticks": ""
            },
            "colorscale": [
             [
              0,
              "#0d0887"
             ],
             [
              0.1111111111111111,
              "#46039f"
             ],
             [
              0.2222222222222222,
              "#7201a8"
             ],
             [
              0.3333333333333333,
              "#9c179e"
             ],
             [
              0.4444444444444444,
              "#bd3786"
             ],
             [
              0.5555555555555556,
              "#d8576b"
             ],
             [
              0.6666666666666666,
              "#ed7953"
             ],
             [
              0.7777777777777778,
              "#fb9f3a"
             ],
             [
              0.8888888888888888,
              "#fdca26"
             ],
             [
              1,
              "#f0f921"
             ]
            ],
            "type": "heatmap"
           }
          ],
          "heatmapgl": [
           {
            "colorbar": {
             "outlinewidth": 0,
             "ticks": ""
            },
            "colorscale": [
             [
              0,
              "#0d0887"
             ],
             [
              0.1111111111111111,
              "#46039f"
             ],
             [
              0.2222222222222222,
              "#7201a8"
             ],
             [
              0.3333333333333333,
              "#9c179e"
             ],
             [
              0.4444444444444444,
              "#bd3786"
             ],
             [
              0.5555555555555556,
              "#d8576b"
             ],
             [
              0.6666666666666666,
              "#ed7953"
             ],
             [
              0.7777777777777778,
              "#fb9f3a"
             ],
             [
              0.8888888888888888,
              "#fdca26"
             ],
             [
              1,
              "#f0f921"
             ]
            ],
            "type": "heatmapgl"
           }
          ],
          "histogram": [
           {
            "marker": {
             "pattern": {
              "fillmode": "overlay",
              "size": 10,
              "solidity": 0.2
             }
            },
            "type": "histogram"
           }
          ],
          "histogram2d": [
           {
            "colorbar": {
             "outlinewidth": 0,
             "ticks": ""
            },
            "colorscale": [
             [
              0,
              "#0d0887"
             ],
             [
              0.1111111111111111,
              "#46039f"
             ],
             [
              0.2222222222222222,
              "#7201a8"
             ],
             [
              0.3333333333333333,
              "#9c179e"
             ],
             [
              0.4444444444444444,
              "#bd3786"
             ],
             [
              0.5555555555555556,
              "#d8576b"
             ],
             [
              0.6666666666666666,
              "#ed7953"
             ],
             [
              0.7777777777777778,
              "#fb9f3a"
             ],
             [
              0.8888888888888888,
              "#fdca26"
             ],
             [
              1,
              "#f0f921"
             ]
            ],
            "type": "histogram2d"
           }
          ],
          "histogram2dcontour": [
           {
            "colorbar": {
             "outlinewidth": 0,
             "ticks": ""
            },
            "colorscale": [
             [
              0,
              "#0d0887"
             ],
             [
              0.1111111111111111,
              "#46039f"
             ],
             [
              0.2222222222222222,
              "#7201a8"
             ],
             [
              0.3333333333333333,
              "#9c179e"
             ],
             [
              0.4444444444444444,
              "#bd3786"
             ],
             [
              0.5555555555555556,
              "#d8576b"
             ],
             [
              0.6666666666666666,
              "#ed7953"
             ],
             [
              0.7777777777777778,
              "#fb9f3a"
             ],
             [
              0.8888888888888888,
              "#fdca26"
             ],
             [
              1,
              "#f0f921"
             ]
            ],
            "type": "histogram2dcontour"
           }
          ],
          "mesh3d": [
           {
            "colorbar": {
             "outlinewidth": 0,
             "ticks": ""
            },
            "type": "mesh3d"
           }
          ],
          "parcoords": [
           {
            "line": {
             "colorbar": {
              "outlinewidth": 0,
              "ticks": ""
             }
            },
            "type": "parcoords"
           }
          ],
          "pie": [
           {
            "automargin": true,
            "type": "pie"
           }
          ],
          "scatter": [
           {
            "marker": {
             "line": {
              "color": "#283442"
             }
            },
            "type": "scatter"
           }
          ],
          "scatter3d": [
           {
            "line": {
             "colorbar": {
              "outlinewidth": 0,
              "ticks": ""
             }
            },
            "marker": {
             "colorbar": {
              "outlinewidth": 0,
              "ticks": ""
             }
            },
            "type": "scatter3d"
           }
          ],
          "scattercarpet": [
           {
            "marker": {
             "colorbar": {
              "outlinewidth": 0,
              "ticks": ""
             }
            },
            "type": "scattercarpet"
           }
          ],
          "scattergeo": [
           {
            "marker": {
             "colorbar": {
              "outlinewidth": 0,
              "ticks": ""
             }
            },
            "type": "scattergeo"
           }
          ],
          "scattergl": [
           {
            "marker": {
             "line": {
              "color": "#283442"
             }
            },
            "type": "scattergl"
           }
          ],
          "scattermapbox": [
           {
            "marker": {
             "colorbar": {
              "outlinewidth": 0,
              "ticks": ""
             }
            },
            "type": "scattermapbox"
           }
          ],
          "scatterpolar": [
           {
            "marker": {
             "colorbar": {
              "outlinewidth": 0,
              "ticks": ""
             }
            },
            "type": "scatterpolar"
           }
          ],
          "scatterpolargl": [
           {
            "marker": {
             "colorbar": {
              "outlinewidth": 0,
              "ticks": ""
             }
            },
            "type": "scatterpolargl"
           }
          ],
          "scatterternary": [
           {
            "marker": {
             "colorbar": {
              "outlinewidth": 0,
              "ticks": ""
             }
            },
            "type": "scatterternary"
           }
          ],
          "surface": [
           {
            "colorbar": {
             "outlinewidth": 0,
             "ticks": ""
            },
            "colorscale": [
             [
              0,
              "#0d0887"
             ],
             [
              0.1111111111111111,
              "#46039f"
             ],
             [
              0.2222222222222222,
              "#7201a8"
             ],
             [
              0.3333333333333333,
              "#9c179e"
             ],
             [
              0.4444444444444444,
              "#bd3786"
             ],
             [
              0.5555555555555556,
              "#d8576b"
             ],
             [
              0.6666666666666666,
              "#ed7953"
             ],
             [
              0.7777777777777778,
              "#fb9f3a"
             ],
             [
              0.8888888888888888,
              "#fdca26"
             ],
             [
              1,
              "#f0f921"
             ]
            ],
            "type": "surface"
           }
          ],
          "table": [
           {
            "cells": {
             "fill": {
              "color": "#506784"
             },
             "line": {
              "color": "rgb(17,17,17)"
             }
            },
            "header": {
             "fill": {
              "color": "#2a3f5f"
             },
             "line": {
              "color": "rgb(17,17,17)"
             }
            },
            "type": "table"
           }
          ]
         },
         "layout": {
          "annotationdefaults": {
           "arrowcolor": "#f2f5fa",
           "arrowhead": 0,
           "arrowwidth": 1
          },
          "autotypenumbers": "strict",
          "coloraxis": {
           "colorbar": {
            "outlinewidth": 0,
            "ticks": ""
           }
          },
          "colorscale": {
           "diverging": [
            [
             0,
             "#8e0152"
            ],
            [
             0.1,
             "#c51b7d"
            ],
            [
             0.2,
             "#de77ae"
            ],
            [
             0.3,
             "#f1b6da"
            ],
            [
             0.4,
             "#fde0ef"
            ],
            [
             0.5,
             "#f7f7f7"
            ],
            [
             0.6,
             "#e6f5d0"
            ],
            [
             0.7,
             "#b8e186"
            ],
            [
             0.8,
             "#7fbc41"
            ],
            [
             0.9,
             "#4d9221"
            ],
            [
             1,
             "#276419"
            ]
           ],
           "sequential": [
            [
             0,
             "#0d0887"
            ],
            [
             0.1111111111111111,
             "#46039f"
            ],
            [
             0.2222222222222222,
             "#7201a8"
            ],
            [
             0.3333333333333333,
             "#9c179e"
            ],
            [
             0.4444444444444444,
             "#bd3786"
            ],
            [
             0.5555555555555556,
             "#d8576b"
            ],
            [
             0.6666666666666666,
             "#ed7953"
            ],
            [
             0.7777777777777778,
             "#fb9f3a"
            ],
            [
             0.8888888888888888,
             "#fdca26"
            ],
            [
             1,
             "#f0f921"
            ]
           ],
           "sequentialminus": [
            [
             0,
             "#0d0887"
            ],
            [
             0.1111111111111111,
             "#46039f"
            ],
            [
             0.2222222222222222,
             "#7201a8"
            ],
            [
             0.3333333333333333,
             "#9c179e"
            ],
            [
             0.4444444444444444,
             "#bd3786"
            ],
            [
             0.5555555555555556,
             "#d8576b"
            ],
            [
             0.6666666666666666,
             "#ed7953"
            ],
            [
             0.7777777777777778,
             "#fb9f3a"
            ],
            [
             0.8888888888888888,
             "#fdca26"
            ],
            [
             1,
             "#f0f921"
            ]
           ]
          },
          "colorway": [
           "#636efa",
           "#EF553B",
           "#00cc96",
           "#ab63fa",
           "#FFA15A",
           "#19d3f3",
           "#FF6692",
           "#B6E880",
           "#FF97FF",
           "#FECB52"
          ],
          "font": {
           "color": "#f2f5fa"
          },
          "geo": {
           "bgcolor": "rgb(17,17,17)",
           "lakecolor": "rgb(17,17,17)",
           "landcolor": "rgb(17,17,17)",
           "showlakes": true,
           "showland": true,
           "subunitcolor": "#506784"
          },
          "hoverlabel": {
           "align": "left"
          },
          "hovermode": "closest",
          "mapbox": {
           "style": "dark"
          },
          "paper_bgcolor": "rgb(17,17,17)",
          "plot_bgcolor": "rgb(17,17,17)",
          "polar": {
           "angularaxis": {
            "gridcolor": "#506784",
            "linecolor": "#506784",
            "ticks": ""
           },
           "bgcolor": "rgb(17,17,17)",
           "radialaxis": {
            "gridcolor": "#506784",
            "linecolor": "#506784",
            "ticks": ""
           }
          },
          "scene": {
           "xaxis": {
            "backgroundcolor": "rgb(17,17,17)",
            "gridcolor": "#506784",
            "gridwidth": 2,
            "linecolor": "#506784",
            "showbackground": true,
            "ticks": "",
            "zerolinecolor": "#C8D4E3"
           },
           "yaxis": {
            "backgroundcolor": "rgb(17,17,17)",
            "gridcolor": "#506784",
            "gridwidth": 2,
            "linecolor": "#506784",
            "showbackground": true,
            "ticks": "",
            "zerolinecolor": "#C8D4E3"
           },
           "zaxis": {
            "backgroundcolor": "rgb(17,17,17)",
            "gridcolor": "#506784",
            "gridwidth": 2,
            "linecolor": "#506784",
            "showbackground": true,
            "ticks": "",
            "zerolinecolor": "#C8D4E3"
           }
          },
          "shapedefaults": {
           "line": {
            "color": "#f2f5fa"
           }
          },
          "sliderdefaults": {
           "bgcolor": "#C8D4E3",
           "bordercolor": "rgb(17,17,17)",
           "borderwidth": 1,
           "tickwidth": 0
          },
          "ternary": {
           "aaxis": {
            "gridcolor": "#506784",
            "linecolor": "#506784",
            "ticks": ""
           },
           "baxis": {
            "gridcolor": "#506784",
            "linecolor": "#506784",
            "ticks": ""
           },
           "bgcolor": "rgb(17,17,17)",
           "caxis": {
            "gridcolor": "#506784",
            "linecolor": "#506784",
            "ticks": ""
           }
          },
          "title": {
           "x": 0.05
          },
          "updatemenudefaults": {
           "bgcolor": "#506784",
           "borderwidth": 0
          },
          "xaxis": {
           "automargin": true,
           "gridcolor": "#283442",
           "linecolor": "#506784",
           "ticks": "",
           "title": {
            "standoff": 15
           },
           "zerolinecolor": "#283442",
           "zerolinewidth": 2
          },
          "yaxis": {
           "automargin": true,
           "gridcolor": "#283442",
           "linecolor": "#506784",
           "ticks": "",
           "title": {
            "standoff": 15
           },
           "zerolinecolor": "#283442",
           "zerolinewidth": 2
          }
         }
        },
        "xaxis": {
         "anchor": "y",
         "domain": [
          0,
          1
         ],
         "title": {
          "text": "index"
         }
        },
        "yaxis": {
         "anchor": "x",
         "domain": [
          0,
          1
         ],
         "title": {
          "text": "confirmed"
         }
        }
       }
      }
     },
     "metadata": {}
    }
   ],
   "metadata": {}
  },
  {
   "cell_type": "code",
   "execution_count": null,
   "source": [],
   "outputs": [],
   "metadata": {}
  }
 ],
 "metadata": {
  "orig_nbformat": 4,
  "language_info": {
   "name": "python",
   "version": "3.8.11",
   "mimetype": "text/x-python",
   "codemirror_mode": {
    "name": "ipython",
    "version": 3
   },
   "pygments_lexer": "ipython3",
   "nbconvert_exporter": "python",
   "file_extension": ".py"
  },
  "kernelspec": {
   "name": "python3",
   "display_name": "Python 3.8.11 64-bit ('covidashboard': conda)"
  },
  "interpreter": {
   "hash": "329bd34b6a6715401a54f6bb376cfcdbdf2bd3ee089cddab0f3a2b7d54f17cf4"
  }
 },
 "nbformat": 4,
 "nbformat_minor": 2
}