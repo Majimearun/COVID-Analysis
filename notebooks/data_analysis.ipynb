{
 "cells": [
  {
   "cell_type": "code",
   "execution_count": 1,
   "source": [
    "# imports\r\n",
    "import os\r\n",
    "import pandas as pd"
   ],
   "outputs": [],
   "metadata": {}
  },
  {
   "cell_type": "code",
   "execution_count": 2,
   "source": [
    "# changing directory\r\n",
    "path_parent = os.path.dirname(os.getcwd())\r\n",
    "os.chdir(path_parent)"
   ],
   "outputs": [],
   "metadata": {}
  },
  {
   "cell_type": "code",
   "execution_count": 9,
   "source": [
    "continents = pd.read_csv('data/continents.csv')\r\n",
    "country_confirmed = pd.read_csv(\"data/country_confirmed.csv\")\r\n",
    "country_deaths = pd.read_csv(\"data/country_deaths.csv\")\r\n",
    "country_recovered = pd.read_csv(\"data/country_recovered.csv\")\r\n",
    "countries = pd.read_csv(\"data/countries.csv\")\r\n",
    "global_ts = pd.read_csv(\"data/global_ts.csv\")\r\n",
    "vac_global = pd.read_csv(\"data/vac_global.csv\")\r\n",
    "vac_country = pd.read_csv(\"data/vac_country.csv\")"
   ],
   "outputs": [],
   "metadata": {}
  },
  {
   "cell_type": "code",
   "execution_count": null,
   "source": [],
   "outputs": [],
   "metadata": {}
  }
 ],
 "metadata": {
  "orig_nbformat": 4,
  "language_info": {
   "name": "python",
   "version": "3.8.11",
   "mimetype": "text/x-python",
   "codemirror_mode": {
    "name": "ipython",
    "version": 3
   },
   "pygments_lexer": "ipython3",
   "nbconvert_exporter": "python",
   "file_extension": ".py"
  },
  "kernelspec": {
   "name": "python3",
   "display_name": "Python 3.8.11 64-bit ('covidashboard': conda)"
  },
  "interpreter": {
   "hash": "329bd34b6a6715401a54f6bb376cfcdbdf2bd3ee089cddab0f3a2b7d54f17cf4"
  }
 },
 "nbformat": 4,
 "nbformat_minor": 2
}